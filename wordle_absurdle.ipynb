{
 "cells": [
  {
   "cell_type": "markdown",
   "metadata": {},
   "source": [
    "# Wordle: https://www.powerlanguage.co.uk/wordle/\n",
    "# Absurdle: https://qntm.org/files/absurdle/absurdle.html\n",
    "# First, lets load up our wordlists."
   ]
  },
  {
   "cell_type": "code",
   "execution_count": null,
   "metadata": {},
   "outputs": [],
   "source": [
    "with open(\"wordle-allowed-guesses.txt\") as f:\n",
    "    allowedGuesses = [line.split(\"\\n\")[0] for line in f]\n",
    "with open(\"wordle-answers-alphabetical.txt\") as f:\n",
    "    allowedAnswers = [line.split(\"\\n\")[0] for line in f]\n",
    "allGuesses = allowedGuesses[:] + allowedAnswers[:]"
   ]
  },
  {
   "cell_type": "markdown",
   "metadata": {},
   "source": [
    "# Next, lets define some helper functions to play a round, etc."
   ]
  },
  {
   "cell_type": "code",
   "execution_count": null,
   "metadata": {},
   "outputs": [],
   "source": [
    "def getOutcome(guess, secret):\n",
    "    outcome = ['x' for _ in range(5)]\n",
    "    secretD = {}\n",
    "    for letter in secret:\n",
    "        if letter in secretD:\n",
    "            secretD[letter] += 1\n",
    "        else:\n",
    "            secretD[letter] = 1\n",
    "    for i in range(5):\n",
    "        if guess[i] == secret[i]:\n",
    "            secretD[secret[i]] -= 1\n",
    "            outcome[i] = 'g'\n",
    "    for i in range(5):\n",
    "        if outcome[i] != 'g' and guess[i] in secretD and secretD[guess[i]] > 0:\n",
    "            outcome[i] = 'y'\n",
    "            secretD[guess[i]] -= 1\n",
    "    return \"\".join(outcome)"
   ]
  },
  {
   "cell_type": "code",
   "execution_count": null,
   "metadata": {},
   "outputs": [],
   "source": [
    "def genAllOutcomes(i):\n",
    "    if i <= 0:\n",
    "        yield ''\n",
    "    else:\n",
    "        for outcome in genAllOutcomes(i-1):\n",
    "            yield 'x' + outcome\n",
    "            yield 'g' + outcome\n",
    "            yield 'y' + outcome\n",
    "\n",
    "allOutcomes = list(genAllOutcomes(5))"
   ]
  },
  {
   "cell_type": "code",
   "execution_count": null,
   "metadata": {},
   "outputs": [],
   "source": [
    "def filterToBuckets(guess, dictionary):\n",
    "    outcomes = {o: [] for o in allOutcomes}\n",
    "    for word in dictionary:\n",
    "        outcome = getOutcome(guess, word)\n",
    "        outcomes[outcome].append(word)\n",
    "    return outcomes"
   ]
  },
  {
   "cell_type": "markdown",
   "metadata": {},
   "source": [
    "# This function pretty-prints everything."
   ]
  },
  {
   "cell_type": "code",
   "execution_count": null,
   "metadata": {},
   "outputs": [],
   "source": [
    "class bcolors:\n",
    "    HEADER = '\\033[95m'\n",
    "    OKBLUE = '\\033[94m'\n",
    "    OKCYAN = '\\033[96m'\n",
    "    OKGREEN = '\\033[92m'\n",
    "    WARNING = '\\033[93m'\n",
    "    FAIL = '\\033[91m'\n",
    "    ENDC = '\\033[0m'\n",
    "    BOLD = '\\033[1m'\n",
    "    UNDERLINE = '\\033[4m'\n",
    "\n",
    "def fancyPrint(outcome, guess, end = \"\\n\"):\n",
    "    print(\"Outcome: \", end = \"\")\n",
    "    for i in range(5):\n",
    "        if outcome[i] == 'x':\n",
    "            print(guess[i], end = \"\")\n",
    "        elif outcome[i] == 'g':\n",
    "            print(bcolors.OKGREEN + guess[i] + bcolors.ENDC, end = \"\")\n",
    "        elif outcome[i] == 'y':\n",
    "            print(bcolors.WARNING + guess[i] + bcolors.ENDC, end = \"\")\n",
    "    print(\"\", end=end)\n"
   ]
  },
  {
   "cell_type": "markdown",
   "metadata": {},
   "source": [
    "# Let's simulate a round of Wordle."
   ]
  },
  {
   "cell_type": "code",
   "execution_count": null,
   "metadata": {},
   "outputs": [],
   "source": [
    "import random\n",
    "\n",
    "def interactWordle():\n",
    "    secretWord = random.choice(allowedAnswers)\n",
    "    allLetters = list(\"etaoinshrdlcumwfgypbvkjxqz\") # by frequency\n",
    "    while True:\n",
    "        guess = input(\"Enter your guess:\")\n",
    "        if guess == \"\":\n",
    "            break\n",
    "        else:\n",
    "            if guess in allGuesses:\n",
    "                outcome = getOutcome(guess, secretWord)\n",
    "                fancyPrint(outcome, guess)\n",
    "                if outcome == \"ggggg\":\n",
    "                    print(\"You win!\")\n",
    "                else:\n",
    "                    for letter in guess:\n",
    "                        try:\n",
    "                            i = allLetters.index(letter)\n",
    "                            allLetters.pop(i)\n",
    "                        except ValueError:\n",
    "                            pass\n",
    "                    print(\"Unused letters:\", \"\".join(allLetters))\n",
    "                    print(\"***************\")\n",
    "            else:\n",
    "                print(\"Guess not in dictionary.\")"
   ]
  },
  {
   "cell_type": "markdown",
   "metadata": {},
   "source": [
    "# Let's play an example game of Wordle (uncomment this function call)."
   ]
  },
  {
   "cell_type": "code",
   "execution_count": null,
   "metadata": {},
   "outputs": [],
   "source": [
    "# interactWordle()"
   ]
  },
  {
   "cell_type": "markdown",
   "metadata": {},
   "source": [
    "# Let's try minmax to find the best Wordle guesses."
   ]
  },
  {
   "cell_type": "code",
   "execution_count": null,
   "metadata": {},
   "outputs": [],
   "source": [
    "def iterateWordle(dictionary):\n",
    "    minMaxBucket = len(dictionary)\n",
    "    if minMaxBucket == 1:\n",
    "        return dictionary[0], {\"ggggg\": dictionary[0]}\n",
    "    else:\n",
    "        bestGuess = \"\"\n",
    "        bestBuckets = dict()\n",
    "        for guess in allGuesses:\n",
    "            buckets = filterToBuckets(guess, dictionary)\n",
    "            maxBucketSize = max([len(buckets[t]) for t in buckets])\n",
    "            if maxBucketSize < minMaxBucket:\n",
    "                minMaxBucket = maxBucketSize\n",
    "                bestGuess = guess\n",
    "                bestBuckets = buckets\n",
    "        return bestGuess, bestBuckets"
   ]
  },
  {
   "cell_type": "code",
   "execution_count": null,
   "metadata": {},
   "outputs": [],
   "source": [
    "def solveWordle(dictionary = None):\n",
    "    if dictionary is None:\n",
    "        dictionary = allowedAnswers\n",
    "        first = True\n",
    "    else:\n",
    "        first = False\n",
    "    while True:\n",
    "        if first:\n",
    "            bestGuess = \"aesir\"\n",
    "            bestBuckets = filterToBuckets(bestGuess, dictionary)\n",
    "            first = False\n",
    "        else:\n",
    "            bestGuess, bestBuckets = iterateWordle(dictionary)\n",
    "        outcome = input(f\"Outcome when you try \\\"{bestGuess}\\\" (combination of x, y, and g):\")\n",
    "        if not outcome or outcome == \"ggggg\":\n",
    "            break\n",
    "        fancyPrint(outcome, bestGuess)\n",
    "        dictionary = bestBuckets[outcome]"
   ]
  },
  {
   "cell_type": "markdown",
   "metadata": {},
   "source": [
    "Uncomment this for interactive Wordle solver."
   ]
  },
  {
   "cell_type": "code",
   "execution_count": null,
   "metadata": {},
   "outputs": [],
   "source": [
    "# solveWordle()"
   ]
  },
  {
   "cell_type": "markdown",
   "metadata": {},
   "source": [
    "# A solver for Wordle that picks up mid game.\n",
    "Uncomment to run."
   ]
  },
  {
   "cell_type": "code",
   "execution_count": null,
   "metadata": {},
   "outputs": [],
   "source": [
    "# guessOutcomePairs = [('raise', 'yxxxx'), ('clout', 'xxyyx'), ('rough', 'yyyxy')]\n",
    "\n",
    "# dictionary = allowedAnswers\n",
    "# for (g, o) in guessOutcomePairs:\n",
    "#     dictionary = filterToBuckets(g, dictionary)[o]\n",
    "# solveWordle(dictionary)"
   ]
  },
  {
   "cell_type": "markdown",
   "metadata": {},
   "source": [
    "# Now, let's check out Absurdle, the adversarial variant of Wordle. First some helper functions to generate outcomes and filter a word list by guess."
   ]
  },
  {
   "cell_type": "code",
   "execution_count": null,
   "metadata": {},
   "outputs": [],
   "source": [
    "def outcomeIsWorse(outcome, worstOutcome):\n",
    "    if outcome.count('g') < worstOutcome.count('g'):\n",
    "        return True\n",
    "    elif outcome.count('g') == worstOutcome.count('g'):\n",
    "        return outcome.count('y') < worstOutcome.count('y')\n",
    "    else:\n",
    "        return False"
   ]
  },
  {
   "cell_type": "code",
   "execution_count": null,
   "metadata": {},
   "outputs": [],
   "source": [
    "def filterOnGuess(guess, currentWords):\n",
    "    \"\"\"\n",
    "    guess: one of the allowed guesses\n",
    "    currentWords: list of words that are still the possible secrets\n",
    "\n",
    "    output: returned as (outcome, remainingWords)\n",
    "    outcome: 5 character long string of ('x', 'g', 'y')\n",
    "    remainingWords: list of remaining words\n",
    "    \"\"\"\n",
    "    outcomes = {o: [] for o in allOutcomes}\n",
    "    for word in currentWords:\n",
    "        outcome = getOutcome(guess, word)\n",
    "        outcomes[outcome].append(word)\n",
    "    worstOutcome = ''\n",
    "    mostSecrets = 0\n",
    "    for outcome in outcomes:\n",
    "        thisSecrets = len(outcomes[outcome])\n",
    "        if thisSecrets > mostSecrets or thisSecrets == mostSecrets and outcomeIsWorse(outcome, worstOutcome):\n",
    "            mostSecrets = thisSecrets\n",
    "            worstOutcome = outcome\n",
    "    return worstOutcome, outcomes[worstOutcome], outcomes"
   ]
  },
  {
   "cell_type": "markdown",
   "metadata": {},
   "source": [
    "# Simulate a round of Absurdle."
   ]
  },
  {
   "cell_type": "code",
   "execution_count": null,
   "metadata": {},
   "outputs": [],
   "source": [
    "def interactAbsurdle():\n",
    "    currentWords = allGuesses[:]\n",
    "    allLetters = list(\"etaoinshrdlcumwfgypbvkjxqz\") # by frequency\n",
    "    while True:\n",
    "        print(\"***************\")\n",
    "        guess = input(\"Enter your guess:\")\n",
    "        if guess == \"\":\n",
    "            break\n",
    "        else:\n",
    "            if guess in allGuesses:\n",
    "                outcome, currentWords, _ = filterOnGuess(guess, currentWords)\n",
    "                fancyPrint(outcome, guess)\n",
    "                if outcome == \"ggggg\":\n",
    "                    print(\"You win!\")\n",
    "                else:\n",
    "                    for letter in guess:\n",
    "                        try:\n",
    "                            i = allLetters.index(letter)\n",
    "                            allLetters.pop(i)\n",
    "                        except ValueError:\n",
    "                            pass\n",
    "                    print(\"Unused letters:\", \"\".join(allLetters))\n",
    "                    print(\"Number of words remaining:\", len(currentWords))\n",
    "                    print(\"***************\")\n",
    "            else:\n",
    "                print(\"Guess not in dictionary.\")"
   ]
  },
  {
   "cell_type": "markdown",
   "metadata": {},
   "source": [
    "# Let's play an example game of Absurdle (uncomment this function call)."
   ]
  },
  {
   "cell_type": "code",
   "execution_count": null,
   "metadata": {},
   "outputs": [],
   "source": [
    "# interactAbsurdle()"
   ]
  },
  {
   "cell_type": "markdown",
   "metadata": {},
   "source": [
    "# Now, let's try to greedily find the best guesses."
   ]
  },
  {
   "cell_type": "code",
   "execution_count": null,
   "metadata": {},
   "outputs": [],
   "source": [
    "def iterateAbsurdle(dictionary):\n",
    "    lastMin = len(dictionary)\n",
    "    bestGuess = None\n",
    "    bestOutcome = 'ggggg'\n",
    "    bestCurrentWords = []\n",
    "    for guess in allGuesses:\n",
    "        outcome, currentWords, _ = filterOnGuess(guess, dictionary)\n",
    "        if len(currentWords) <= lastMin:\n",
    "            bestGuess = guess\n",
    "            bestCurrentWords = currentWords\n",
    "            bestOutcome = outcome\n",
    "            lastMin = len(currentWords)\n",
    "    fancyPrint(bestOutcome, bestGuess)\n",
    "    if len(currentWords) == 1:\n",
    "        print(\"***************************************************************\")\n",
    "        print(\"Done. \", end = \"\")\n",
    "        fancyPrint('ggggg', currentWords[0])\n",
    "        return []\n",
    "    else:\n",
    "        print(\"***************************************************************\")\n",
    "        return bestCurrentWords"
   ]
  },
  {
   "cell_type": "markdown",
   "metadata": {},
   "source": [
    "# This cell shows that the solution obtained from greedy maximization is raise, duply, witch, zonal, uncut.\n",
    "This cell is commented to avoid repeated execution. Uncomment the code before running it."
   ]
  },
  {
   "cell_type": "code",
   "execution_count": null,
   "metadata": {},
   "outputs": [],
   "source": [
    "# currentWords = allowedAnswers[:]\n",
    "# while currentWords:\n",
    "#     currentWords = iterateAbsurdle(currentWords)"
   ]
  },
  {
   "cell_type": "markdown",
   "metadata": {},
   "source": [
    "# This cell tries to find a greedily optimized solution after a particular set of guesses.\n",
    "This cell is commented to avoid repeated execution. Uncomment the code before running it."
   ]
  },
  {
   "cell_type": "code",
   "execution_count": null,
   "metadata": {},
   "outputs": [],
   "source": [
    "# alreadyGuessed = [\"raise\", \"witch\", \"duply\"]\n",
    "\n",
    "# currentWords = allowedAnswers[:]\n",
    "# for guess in alreadyGuessed:\n",
    "#     outcome, currentWords, _ = filterOnGuess(guess, currentWords)\n",
    "#     fancyPrint(outcome, guess)\n",
    "# print(\"***************************************************************\")\n",
    "# while currentWords:\n",
    "#     currentWords = iterateAbsurdle(currentWords)"
   ]
  },
  {
   "cell_type": "markdown",
   "metadata": {},
   "source": [
    "# Now, let's try to solve the game in Challenge mode (where the final guess has to be a specific word)"
   ]
  },
  {
   "cell_type": "code",
   "execution_count": null,
   "metadata": {},
   "outputs": [],
   "source": [
    "def iterateAbsurdleChallenge(target, dictionary, prevGuesses):\n",
    "    lastMin = len(dictionary)\n",
    "    bestGuess = None\n",
    "    bestOutcome = 'ggggg'\n",
    "    bestCurrentWords = []\n",
    "    for guess in allGuesses:\n",
    "        if guess not in prevGuesses:\n",
    "            outcome, currentWords, buckets = filterOnGuess(guess, dictionary)\n",
    "            if target in currentWords:\n",
    "                # the largest bucket must contain the target word and must be one larger than the rest\n",
    "                if len(currentWords) < lastMin:\n",
    "                    lens = [len(buckets[t]) for t in buckets]\n",
    "                    lens.sort(reverse=True)\n",
    "                    if lens[0] > lens[1]:\n",
    "                        bestGuess = guess\n",
    "                        bestOutcome = outcome\n",
    "                        bestCurrentWords = currentWords\n",
    "                        lastMin = len(bestCurrentWords)\n",
    "    fancyPrint(bestOutcome, bestGuess)\n",
    "    if len(bestCurrentWords) == 1:\n",
    "        print(\"***************************************************************\")\n",
    "        print(\"Done. \", end = \"\")\n",
    "        fancyPrint('ggggg', bestCurrentWords[0])\n",
    "        return bestCurrentWords[0], bestCurrentWords\n",
    "    else:\n",
    "        print(\"***************************************************************\")\n",
    "        return bestGuess, bestCurrentWords"
   ]
  },
  {
   "cell_type": "markdown",
   "metadata": {},
   "source": [
    "Code is commented to stop it from executing."
   ]
  },
  {
   "cell_type": "code",
   "execution_count": null,
   "metadata": {},
   "outputs": [],
   "source": [
    "# targetSecret = \"smear\"\n",
    "\n",
    "# currentWords = allowedAnswers[:]\n",
    "# prevGuesses = []\n",
    "# while len(currentWords) > 2:\n",
    "#     bg, currentWords = iterateAbsurdleChallenge(targetSecret, currentWords, prevGuesses)\n",
    "#     prevGuesses.append(bg)\n",
    "# for guess in allGuesses:\n",
    "#     if guess not in prevGuesses:\n",
    "#         outcome, finalWords, buckets = filterOnGuess(guess, currentWords)\n",
    "#         if len(finalWords) == 1 and finalWords[0] == targetSecret:\n",
    "#             prevGuesses.append(guess)\n",
    "#             fancyPrint(outcome, guess)\n",
    "#             print(\"***************************************************************\")\n",
    "#             break\n",
    "# fancyPrint(\"ggggg\", targetSecret)"
   ]
  }
 ],
 "metadata": {
  "interpreter": {
   "hash": "31f2aee4e71d21fbe5cf8b01ff0e069b9275f58929596ceb00d14d90e3e16cd6"
  },
  "kernelspec": {
   "display_name": "Python 3.6.9 64-bit",
   "language": "python",
   "name": "python3"
  },
  "language_info": {
   "codemirror_mode": {
    "name": "ipython",
    "version": 3
   },
   "file_extension": ".py",
   "mimetype": "text/x-python",
   "name": "python",
   "nbconvert_exporter": "python",
   "pygments_lexer": "ipython3",
   "version": "3.6.9"
  },
  "orig_nbformat": 4
 },
 "nbformat": 4,
 "nbformat_minor": 2
}
