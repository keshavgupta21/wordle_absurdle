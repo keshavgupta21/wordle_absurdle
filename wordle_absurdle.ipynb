{
 "cells": [
  {
   "cell_type": "markdown",
   "metadata": {},
   "source": [
    "# Solvers for [Wordle](https://www.powerlanguage.co.uk/wordle/) and [Absurdle](https://qntm.org/files/absurdle/absurdle.html)\n",
    "## Author: Keshav Gupta (keshav21@mit.edu)\n",
    "### First, lets load up our wordlists."
   ]
  },
  {
   "cell_type": "code",
   "execution_count": null,
   "metadata": {},
   "outputs": [],
   "source": [
    "with open(\"wordle-allowed-guesses.txt\") as f:\n",
    "    allowedGuesses = [line.split(\"\\n\")[0] for line in f]\n",
    "with open(\"wordle-answers-alphabetical.txt\") as f:\n",
    "    allowedAnswers = [line.split(\"\\n\")[0] for line in f]\n",
    "allGuesses = allowedGuesses[:] + allowedAnswers[:]"
   ]
  },
  {
   "cell_type": "markdown",
   "metadata": {},
   "source": [
    "### Next, lets define some helper functions to play a round, etc."
   ]
  },
  {
   "cell_type": "code",
   "execution_count": null,
   "metadata": {},
   "outputs": [],
   "source": [
    "def getOutcome(guess, secret):\n",
    "    outcome = ['x' for _ in range(5)]\n",
    "    secretD = {}\n",
    "    for letter in secret:\n",
    "        if letter in secretD:\n",
    "            secretD[letter] += 1\n",
    "        else:\n",
    "            secretD[letter] = 1\n",
    "    for i in range(5):\n",
    "        if guess[i] == secret[i]:\n",
    "            secretD[secret[i]] -= 1\n",
    "            outcome[i] = 'g'\n",
    "    for i in range(5):\n",
    "        if outcome[i] != 'g' and guess[i] in secretD and secretD[guess[i]] > 0:\n",
    "            outcome[i] = 'y'\n",
    "            secretD[guess[i]] -= 1\n",
    "    return \"\".join(outcome)"
   ]
  },
  {
   "cell_type": "code",
   "execution_count": null,
   "metadata": {},
   "outputs": [],
   "source": [
    "def genAllOutcomes(i):\n",
    "    if i <= 0:\n",
    "        yield ''\n",
    "    else:\n",
    "        for outcome in genAllOutcomes(i-1):\n",
    "            yield 'x' + outcome\n",
    "            yield 'g' + outcome\n",
    "            yield 'y' + outcome\n",
    "\n",
    "allOutcomes = list(genAllOutcomes(5))"
   ]
  },
  {
   "cell_type": "code",
   "execution_count": null,
   "metadata": {},
   "outputs": [],
   "source": [
    "def filterToBuckets(guess, dictionary):\n",
    "    outcomes = {o: [] for o in allOutcomes}\n",
    "    for word in dictionary:\n",
    "        outcome = getOutcome(guess, word)\n",
    "        outcomes[outcome].append(word)\n",
    "    return outcomes"
   ]
  },
  {
   "cell_type": "markdown",
   "metadata": {},
   "source": [
    "### These functions pretty-print everything."
   ]
  },
  {
   "cell_type": "code",
   "execution_count": null,
   "metadata": {},
   "outputs": [],
   "source": [
    "class bcolors:\n",
    "    HEADER = '\\033[95m'\n",
    "    OKBLUE = '\\033[94m'\n",
    "    OKCYAN = '\\033[96m'\n",
    "    OKGREEN = '\\033[92m'\n",
    "    WARNING = '\\033[93m'\n",
    "    FAIL = '\\033[91m'\n",
    "    ENDC = '\\033[0m'\n",
    "    BOLD = '\\033[1m'\n",
    "    UNDERLINE = '\\033[4m'\n",
    "\n",
    "def fancyPrint(outcome, guess, end = \"\\n\"):\n",
    "    print(\"Outcome: \", end = \"\")\n",
    "    for i in range(5):\n",
    "        if outcome[i] == 'x':\n",
    "            print(guess[i], end = \"\")\n",
    "        elif outcome[i] == 'g':\n",
    "            print(bcolors.OKGREEN + guess[i] + bcolors.ENDC, end = \"\")\n",
    "        elif outcome[i] == 'y':\n",
    "            print(bcolors.WARNING + guess[i] + bcolors.ENDC, end = \"\")\n",
    "    print(\"\", end=end)\n",
    "\n",
    "def fancyBucketPrint(buckets):\n",
    "    outcomesList = list(buckets.keys())\n",
    "    outcomesList.sort(reverse = True, key = lambda t: len(buckets[t]))\n",
    "    print(\"{\", end = \"\")\n",
    "    for outcome in outcomesList[:5]:\n",
    "        print(f\"{outcome}: {len(buckets[outcome])}, \", end = \"\")\n",
    "    if len(outcomesList) > 5:\n",
    "        print(\"... }\")\n",
    "    else:\n",
    "        print(\"}\")\n"
   ]
  },
  {
   "cell_type": "markdown",
   "metadata": {},
   "source": [
    "# Wordle\n",
    "### Let's simulate a round of Wordle."
   ]
  },
  {
   "cell_type": "code",
   "execution_count": null,
   "metadata": {},
   "outputs": [],
   "source": [
    "import random\n",
    "\n",
    "def interactWordle():\n",
    "    secretWord = random.choice(allowedAnswers)\n",
    "    allLetters = list(\"etaoinshrdlcumwfgypbvkjxqz\") # by frequency\n",
    "    while True:\n",
    "        guess = input(\"Enter your guess:\")\n",
    "        if guess == \"\":\n",
    "            break\n",
    "        else:\n",
    "            if guess in allGuesses:\n",
    "                outcome = getOutcome(guess, secretWord)\n",
    "                fancyPrint(outcome, guess)\n",
    "                if outcome == \"ggggg\":\n",
    "                    print(\"You win!\")\n",
    "                else:\n",
    "                    for letter in guess:\n",
    "                        try:\n",
    "                            i = allLetters.index(letter)\n",
    "                            allLetters.pop(i)\n",
    "                        except ValueError:\n",
    "                            pass\n",
    "                    print(\"Unused letters:\", \"\".join(allLetters))\n",
    "                    print(\"***************\")\n",
    "            else:\n",
    "                print(\"Guess not in dictionary.\")\n",
    "\n",
    "# interactWordle()"
   ]
  },
  {
   "cell_type": "markdown",
   "metadata": {},
   "source": [
    "### Let's try minmax to find the best Wordle guesses."
   ]
  },
  {
   "cell_type": "code",
   "execution_count": null,
   "metadata": {},
   "outputs": [],
   "source": [
    "def iterateWordle(dictionary):\n",
    "    minMaxBucket = len(dictionary)\n",
    "    if minMaxBucket == 1:\n",
    "        return dictionary[0], {\"ggggg\": dictionary[0]}\n",
    "    else:\n",
    "        bestGuess = \"\"\n",
    "        bestBuckets = dict()\n",
    "        for guess in allGuesses:\n",
    "            buckets = filterToBuckets(guess, dictionary)\n",
    "            maxBucketSize = max([len(buckets[t]) for t in buckets])\n",
    "            if maxBucketSize < minMaxBucket:\n",
    "                minMaxBucket = maxBucketSize\n",
    "                bestGuess = guess\n",
    "                bestBuckets = buckets\n",
    "        return bestGuess, bestBuckets"
   ]
  },
  {
   "cell_type": "markdown",
   "metadata": {},
   "source": [
    "### Memoize the first two guesses to make the solver faster."
   ]
  },
  {
   "cell_type": "code",
   "execution_count": null,
   "metadata": {},
   "outputs": [],
   "source": [
    "def memoize():\n",
    "    firstGuess = \"aesir\"\n",
    "    buckets = filterToBuckets(firstGuess, allowedAnswers)\n",
    "    secondGuesses = dict()\n",
    "    for outcome in buckets:\n",
    "        print(f\"Working on outcome {outcome}.\")\n",
    "        bg, _ = iterateWordle(buckets[outcome])\n",
    "        secondGuesses[outcome] = bg\n",
    "    print(secondGuesses)\n",
    "\n",
    "# memoize()"
   ]
  },
  {
   "cell_type": "code",
   "execution_count": null,
   "metadata": {},
   "outputs": [],
   "source": [
    "firstGuess = 'aesir'\n",
    "secondGuesses = {'xxxxx': 'bludy', 'gxxxx': 'glout', 'yxxxx': 'canty', 'xgxxx': 'culty', 'ggxxx': '', 'ygxxx': 'typal', 'xyxxx': 'nould', 'gyxxx': 'blate', 'yyxxx': 'cable', 'xxgxx': 'altho', 'gxgxx': 'assay', 'yxgxx': 'hotty', 'xggxx': 'azote', 'gggxx': '', 'yggxx': '', 'xygxx': 'acton', 'gygxx': 'asset', 'yygxx': 'bitch', 'xxyxx': 'cloot', 'gxyxx': 'abacs', 'yxyxx': 'latch', 'xgyxx': 'antae', 'ggyxx': '', 'ygyxx': 'flyte', 'xyyxx': 'stoln', 'gyyxx': 'abash', 'yyyxx': 'shakt', 'xxxgx': 'clomp', 'gxxgx': 'anted', 'yxxgx': 'abamp', 'xgxgx': 'aband', 'ggxgx': '', 'ygxgx': 'media', 'xyxgx': 'bonce', 'gyxgx': '', 'yyxgx': 'email', 'xxggx': 'abamp', 'gxggx': '', 'yxggx': 'acnes', 'xgggx': '', 'ggggx': '', 'ygggx': '', 'xyggx': '', 'gyggx': '', 'yyggx': '', 'xxygx': 'ablet', 'gxygx': '', 'yxygx': 'actin', 'xgygx': '', 'ggygx': '', 'ygygx': 'sepia', 'xyygx': 'aahed', 'gyygx': '', 'yyygx': '', 'xxxyx': 'clint', 'gxxyx': 'nopal', 'yxxyx': 'talon', 'xgxyx': 'adhan', 'ggxyx': '', 'ygxyx': '', 'xyxyx': 'cline', 'gyxyx': 'blive', 'yyxyx': 'amene', 'xxgyx': 'schmo', 'gxgyx': '', 'yxgyx': 'vista', 'xggyx': '', 'gggyx': '', 'yggyx': '', 'xygyx': 'issue', 'gygyx': 'aisle', 'yygyx': '', 'xxyyx': 'skint', 'gxyyx': 'amiss', 'yxyyx': 'agast', 'xgyyx': 'aahed', 'ggyyx': '', 'ygyyx': '', 'xyyyx': 'pling', 'gyyyx': 'aside', 'yyyyx': '', 'xxxxg': 'furth', 'gxxxg': 'adbot', 'yxxxg': 'novum', 'xgxxg': 'flout', 'ggxxg': '', 'ygxxg': 'aband', 'xyxxg': 'compt', 'gyxxg': 'abaft', 'yyxxg': 'grypt', 'xxgxg': '', 'gxgxg': '', 'yxgxg': '', 'xggxg': '', 'gggxg': '', 'yggxg': '', 'xygxg': 'aalii', 'gygxg': '', 'yygxg': '', 'xxyxg': 'scour', 'gxyxg': '', 'yxyxg': 'acton', 'xgyxg': 'ablow', 'ggyxg': '', 'ygyxg': '', 'xyyxg': 'autos', 'gyyxg': '', 'yyyxg': 'aheap', 'xxxgg': 'choir', 'gxxgg': '', 'yxxgg': 'aahed', 'xgxgg': '', 'ggxgg': '', 'ygxgg': '', 'xyxgg': 'their', 'gyxgg': '', 'yyxgg': '', 'xxggg': '', 'gxggg': '', 'yxggg': '', 'xgggg': '', 'ggggg': '', 'ygggg': '', 'xyggg': '', 'gyggg': '', 'yyggg': '', 'xxygg': '', 'gxygg': '', 'yxygg': 'stair', 'xgygg': '', 'ggygg': '', 'ygygg': '', 'xyygg': '', 'gyygg': '', 'yyygg': '', 'xxxyg': 'avion', 'gxxyg': '', 'yxxyg': 'abcee', 'xgxyg': '', 'ggxyg': '', 'ygxyg': '', 'xyxyg': 'divan', 'gyxyg': 'aider', 'yyxyg': '', 'xxgyg': 'visor', 'gxgyg': '', 'yxgyg': '', 'xggyg': '', 'gggyg': '', 'yggyg': '', 'xygyg': 'amowt', 'gygyg': '', 'yygyg': '', 'xxyyg': '', 'gxyyg': '', 'yxyyg': '', 'xgyyg': '', 'ggyyg': '', 'ygyyg': '', 'xyyyg': 'skier', 'gyyyg': '', 'yyyyg': '', 'xxxxy': 'conto', 'gxxxy': 'anomy', 'yxxxy': 'canto', 'xgxxy': 'corby', 'ggxxy': '', 'ygxxy': 'ryals', 'xyxxy': 'dropt', 'gyxxy': 'loure', 'yyxxy': 'cadge', 'xxgxy': 'rusty', 'gxgxy': 'arson', 'yxgxy': 'raspy', 'xggxy': 'reset', 'gggxy': '', 'yggxy': '', 'xygxy': '', 'gygxy': '', 'yygxy': '', 'xxyxy': 'curst', 'gxyxy': 'artsy', 'yxyxy': 'scath', 'xgyxy': 'kerve', 'ggyxy': '', 'ygyxy': '', 'xyyxy': 'scowp', 'gyyxy': 'arose', 'yyyxy': 'canst', 'xxxgy': 'boult', 'gxxgy': 'acrid', 'yxxgy': 'balti', 'xgxgy': 'compt', 'ggxgy': '', 'ygxgy': '', 'xyxgy': '', 'gyxgy': '', 'yyxgy': '', 'xxggy': '', 'gxggy': '', 'yxggy': '', 'xgggy': 'resin', 'ggggy': '', 'ygggy': '', 'xyggy': '', 'gyggy': '', 'yyggy': '', 'xxygy': 'aargh', 'gxygy': '', 'yxygy': '', 'xgygy': 'serif', 'ggygy': '', 'ygygy': '', 'xyygy': '', 'gyygy': '', 'yyygy': '', 'xxxyy': 'linky', 'gxxyy': '', 'yxxyy': 'caird', 'xgxyy': 'aahed', 'ggxyy': '', 'ygxyy': '', 'xyxyy': 'timed', 'gyxyy': 'afire', 'yyxyy': 'irate', 'xxgyy': 'risky', 'gxgyy': '', 'yxgyy': '', 'xggyy': '', 'gggyy': '', 'yggyy': '', 'xygyy': 'risen', 'gygyy': '', 'yygyy': '', 'xxyyy': 'chirk', 'gxyyy': '', 'yxyyy': '', 'xgyyy': '', 'ggyyy': '', 'ygyyy': '', 'xyyyy': 'adhan', 'gyyyy': 'arise', 'yyyyy': 'raise'}"
   ]
  },
  {
   "cell_type": "code",
   "execution_count": null,
   "metadata": {},
   "outputs": [],
   "source": [
    "def solveWordle(dictionary = None):\n",
    "    if dictionary is None:\n",
    "        dictionary = allowedAnswers\n",
    "        attempt = 0\n",
    "    else:\n",
    "        attempt = 2\n",
    "    while True:\n",
    "        if attempt == 0:\n",
    "            bestGuess = \"aesir\"\n",
    "            bestBuckets = filterToBuckets(bestGuess, dictionary)\n",
    "        elif attempt == 1:\n",
    "            bestGuess = secondGuesses[outcome]\n",
    "            bestBuckets = filterToBuckets(bestGuess, dictionary)\n",
    "        elif attempt >= 2:\n",
    "            bestGuess, bestBuckets = iterateWordle(dictionary)\n",
    "        outcome = input(f\"Outcome when you try \\\"{bestGuess}\\\" (combination of x, y, and g):\")\n",
    "        attempt += 1\n",
    "        if not outcome or outcome == \"ggggg\":\n",
    "            break\n",
    "        fancyPrint(outcome, bestGuess)\n",
    "        dictionary = bestBuckets[outcome]\n",
    "\n",
    "# solveWordle()"
   ]
  },
  {
   "cell_type": "markdown",
   "metadata": {},
   "source": [
    "### A solver for Wordle that picks up mid game."
   ]
  },
  {
   "cell_type": "code",
   "execution_count": null,
   "metadata": {},
   "outputs": [],
   "source": [
    "def solveWordleContinuation(guessOutcomePairs):\n",
    "    dictionary = allowedAnswers\n",
    "    for (g, o) in guessOutcomePairs:\n",
    "        dictionary = filterToBuckets(g, dictionary)[o]\n",
    "    solveWordle(dictionary)\n",
    "\n",
    "# solveWordleContinuation([('raise', 'yxxxx'), ('clout', 'xxyyx'), ('rough', 'yyyxy')])"
   ]
  },
  {
   "cell_type": "markdown",
   "metadata": {},
   "source": [
    "### Now, lets evaluate this solver by the number of turns it takes for each possible answer."
   ]
  },
  {
   "cell_type": "code",
   "execution_count": null,
   "metadata": {},
   "outputs": [],
   "source": [
    "def evaluateSolver():\n",
    "    attemptCounts = []\n",
    "    for secret in allowedAnswers:\n",
    "        attempt = 0\n",
    "        dictionary = allowedAnswers\n",
    "        while True:\n",
    "            if attempt == 0:\n",
    "                bestGuess = \"aesir\"\n",
    "                bestBuckets = filterToBuckets(bestGuess, dictionary)\n",
    "            elif attempt == 1:\n",
    "                bestGuess = secondGuesses[outcome]\n",
    "                bestBuckets = filterToBuckets(bestGuess, dictionary)\n",
    "            elif attempt >= 2:\n",
    "                bestGuess, bestBuckets = iterateWordle(dictionary)\n",
    "            outcome = getOutcome(bestGuess, secret)\n",
    "            attempt += 1\n",
    "            if outcome == 'ggggg':\n",
    "                attemptCounts.append(attempt)\n",
    "                break\n",
    "            dictionary = bestBuckets[outcome]\n",
    "    print(attemptCounts)\n",
    "\n",
    "# evaluateSolver()"
   ]
  },
  {
   "cell_type": "code",
   "execution_count": null,
   "metadata": {},
   "outputs": [],
   "source": [
    "import matplotlib.pyplot as plt\n",
    "import numpy as np\n",
    "\n",
    "def plotAttemptCounts():\n",
    "    # attempt counts obtained from before\n",
    "    attemptCounts = [3, 3, 3, 3, 3, 3, 3, 3, 4, 4, 3, 4, 3, 3, 4, 2, 3, 3, 4, 3, 4, 3, 4, 4, 4, 3, 4, 3, 4, 2, 4, 3, 3, 3, 4, 3, 4, 3, 3, 3, 4, 4, 3, 4, 2, 2, 3, 3, 3, 4, 3, 3, 3, 3, 3, 4, 3, 3, 4, 4, 3, 4, 3, 3, 3, 4, 3, 3, 3, 4, 3, 3, 4, 2, 3, 4, 4, 4, 3, 3, 3, 4, 3, 3, 3, 4, 4, 3, 4, 4, 3, 3, 4, 4, 4, 3, 4, 4, 4, 3, 3, 3, 3, 3, 3, 2, 3, 3, 2, 3, 4, 2, 2, 3, 3, 2, 3, 2, 2, 3, 3, 3, 3, 4, 3, 3, 4, 3, 3, 4, 3, 4, 4, 3, 3, 4, 4, 3, 3, 3, 3, 3, 4, 5, 3, 4, 4, 4, 4, 4, 4, 4, 4, 4, 3, 3, 3, 3, 3, 4, 4, 5, 4, 5, 4, 4, 4, 4, 3, 4, 4, 4, 4, 3, 4, 3, 4, 3, 4, 4, 4, 4, 4, 4, 4, 3, 4, 3, 3, 4, 4, 4, 4, 4, 5, 4, 4, 4, 4, 4, 4, 4, 3, 5, 4, 4, 4, 4, 4, 4, 4, 4, 4, 4, 3, 4, 3, 4, 3, 4, 4, 3, 3, 4, 4, 4, 4, 4, 4, 4, 4, 4, 4, 5, 4, 4, 4, 5, 4, 5, 4, 4, 4, 3, 4, 4, 4, 4, 4, 4, 4, 4, 4, 3, 3, 3, 4, 4, 4, 4, 4, 4, 4, 3, 4, 4, 3, 5, 4, 4, 4, 4, 3, 4, 4, 4, 4, 4, 4, 4, 4, 4, 4, 3, 4, 5, 5, 4, 4, 4, 4, 3, 4, 3, 4, 4, 4, 4, 4, 3, 4, 4, 4, 4, 5, 4, 3, 3, 4, 4, 4, 4, 4, 4, 4, 4, 4, 2, 4, 4, 4, 4, 4, 4, 3, 3, 4, 4, 4, 4, 4, 4, 4, 4, 3, 3, 3, 3, 3, 3, 4, 4, 3, 4, 4, 4, 3, 3, 3, 3, 4, 4, 3, 4, 4, 3, 4, 4, 4, 4, 4, 4, 4, 4, 4, 4, 4, 4, 4, 3, 4, 3, 4, 4, 4, 4, 4, 4, 4, 2, 4, 4, 3, 4, 5, 5, 4, 3, 3, 4, 3, 3, 3, 4, 3, 4, 3, 4, 4, 4, 3, 4, 4, 4, 4, 4, 4, 4, 4, 4, 4, 4, 4, 4, 4, 3, 4, 4, 3, 4, 4, 4, 5, 3, 4, 4, 4, 4, 4, 4, 4, 4, 4, 4, 3, 4, 4, 3, 3, 4, 4, 4, 3, 5, 5, 4, 4, 4, 3, 5, 4, 4, 4, 4, 4, 4, 4, 4, 4, 3, 3, 3, 4, 4, 4, 4, 4, 4, 4, 3, 5, 4, 4, 4, 3, 4, 4, 4, 4, 4, 4, 4, 4, 3, 4, 4, 4, 4, 3, 3, 4, 4, 4, 5, 4, 4, 4, 3, 3, 3, 4, 3, 3, 4, 4, 4, 4, 4, 3, 4, 4, 4, 5, 4, 3, 3, 5, 3, 5, 4, 4, 4, 4, 3, 3, 4, 3, 4, 3, 3, 3, 3, 4, 3, 3, 3, 4, 4, 4, 4, 3, 4, 4, 4, 3, 4, 4, 3, 4, 3, 4, 4, 5, 5, 3, 4, 4, 4, 4, 3, 3, 4, 5, 5, 3, 5, 4, 4, 4, 4, 4, 4, 4, 4, 3, 4, 4, 4, 4, 4, 3, 4, 4, 4, 4, 4, 4, 5, 4, 4, 4, 4, 4, 3, 4, 4, 4, 4, 3, 4, 4, 4, 4, 4, 4, 4, 3, 4, 4, 5, 4, 3, 4, 4, 4, 4, 4, 4, 4, 5, 4, 4, 4, 4, 4, 4, 4, 4, 4, 5, 4, 3, 4, 4, 3, 4, 4, 4, 4, 5, 4, 4, 4, 4, 3, 4, 4, 4, 3, 2, 4, 3, 4, 4, 4, 3, 4, 4, 4, 4, 3, 4, 4, 4, 4, 4, 4, 3, 3, 4, 3, 4, 4, 4, 3, 4, 3, 3, 3, 4, 4, 4, 4, 4, 4, 3, 4, 4, 4, 4, 4, 4, 4, 3, 4, 4, 3, 4, 4, 4, 4, 3, 4, 3, 4, 4, 4, 4, 3, 3, 4, 3, 4, 4, 4, 3, 4, 3, 4, 4, 3, 4, 4, 4, 4, 4, 4, 4, 4, 3, 4, 5, 5, 5, 5, 4, 5, 5, 3, 3, 4, 4, 4, 3, 5, 5, 4, 4, 4, 3, 5, 4, 5, 5, 4, 4, 4, 4, 4, 4, 3, 4, 4, 4, 4, 4, 4, 3, 3, 4, 4, 3, 4, 4, 5, 3, 4, 4, 5, 5, 5, 4, 4, 4, 4, 3, 4, 5, 4, 5, 4, 4, 4, 3, 4, 4, 4, 4, 5, 4, 4, 4, 5, 4, 4, 5, 4, 4, 3, 4, 4, 4, 4, 3, 4, 4, 4, 4, 5, 4, 3, 4, 4, 4, 4, 5, 5, 3, 5, 4, 5, 4, 4, 4, 4, 4, 4, 4, 4, 4, 4, 4, 4, 3, 4, 4, 4, 4, 4, 3, 4, 4, 4, 3, 5, 4, 3, 4, 4, 4, 4, 4, 4, 4, 5, 4, 4, 4, 4, 4, 4, 4, 4, 4, 4, 3, 4, 4, 4, 4, 4, 5, 4, 4, 4, 4, 4, 4, 4, 4, 4, 3, 3, 4, 4, 4, 4, 3, 4, 5, 4, 4, 4, 4, 5, 4, 3, 5, 4, 4, 4, 4, 4, 4, 4, 4, 4, 3, 4, 3, 4, 4, 4, 4, 4, 5, 4, 5, 4, 4, 4, 4, 4, 4, 4, 4, 4, 3, 4, 4, 4, 5, 5, 3, 4, 4, 4, 4, 4, 5, 5, 5, 4, 5, 5, 4, 3, 3, 5, 4, 4, 4, 4, 4, 4, 4, 4, 4, 4, 4, 4, 4, 4, 3, 3, 4, 4, 3, 5, 4, 4, 4, 4, 4, 3, 4, 5, 3, 5, 3, 4, 4, 4, 4, 5, 4, 4, 4, 5, 4, 5, 4, 3, 4, 4, 5, 5, 5, 4, 4, 4, 3, 4, 4, 4, 3, 3, 3, 4, 4, 3, 4, 4, 3, 3, 4, 4, 4, 3, 4, 3, 4, 4, 4, 4, 4, 3, 4, 4, 4, 4, 4, 4, 2, 4, 3, 2, 4, 4, 5, 5, 4, 4, 4, 4, 5, 4, 5, 5, 5, 3, 4, 4, 4, 4, 4, 3, 4, 3, 4, 5, 4, 4, 4, 4, 3, 5, 3, 4, 4, 3, 3, 3, 4, 4, 4, 4, 4, 3, 3, 4, 4, 4, 4, 3, 4, 4, 4, 4, 5, 4, 4, 5, 4, 4, 4, 3, 4, 4, 4, 4, 3, 4, 3, 3, 3, 4, 4, 3, 4, 3, 4, 4, 4, 3, 4, 4, 4, 4, 4, 4, 4, 4, 4, 3, 4, 4, 4, 4, 4, 4, 4, 4, 4, 4, 4, 5, 3, 4, 5, 3, 4, 5, 4, 4, 3, 3, 3, 5, 5, 5, 4, 3, 4, 4, 4, 3, 4, 4, 4, 3, 3, 3, 3, 4, 4, 3, 4, 4, 3, 4, 5, 4, 4, 4, 3, 4, 4, 4, 4, 5, 4, 4, 4, 5, 4, 4, 4, 3, 4, 3, 5, 4, 4, 4, 4, 4, 4, 4, 4, 4, 4, 4, 3, 4, 4, 2, 4, 4, 4, 3, 4, 3, 4, 4, 4, 4, 4, 4, 3, 4, 5, 3, 4, 4, 4, 3, 4, 3, 4, 3, 3, 4, 4, 4, 4, 4, 4, 3, 3, 4, 4, 4, 4, 4, 3, 4, 4, 4, 4, 4, 4, 3, 4, 4, 4, 4, 4, 4, 3, 4, 4, 4, 3, 4, 5, 4, 4, 5, 4, 3, 4, 4, 4, 3, 3, 5, 4, 4, 5, 4, 4, 4, 3, 4, 4, 4, 4, 4, 4, 4, 4, 4, 4, 3, 4, 3, 4, 4, 3, 4, 3, 3, 3, 4, 3, 3, 4, 4, 4, 3, 4, 4, 3, 4, 3, 4, 4, 4, 4, 4, 4, 3, 4, 4, 4, 4, 4, 3, 4, 4, 4, 4, 3, 4, 4, 4, 4, 5, 3, 3, 4, 4, 4, 4, 3, 4, 3, 4, 4, 4, 4, 5, 4, 4, 4, 4, 4, 4, 4, 4, 4, 4, 4, 4, 3, 4, 3, 4, 4, 4, 4, 3, 5, 4, 4, 3, 4, 4, 4, 3, 4, 4, 4, 4, 4, 3, 3, 4, 3, 3, 3, 4, 4, 4, 4, 4, 3, 3, 3, 4, 5, 4, 4, 4, 4, 4, 5, 4, 4, 4, 5, 4, 3, 4, 3, 4, 4, 4, 5, 5, 4, 5, 4, 4, 4, 3, 4, 5, 3, 4, 4, 5, 4, 4, 4, 3, 4, 3, 4, 4, 4, 4, 4, 3, 3, 3, 5, 4, 3, 4, 5, 4, 4, 4, 4, 4, 4, 4, 4, 4, 4, 3, 4, 4, 4, 4, 4, 5, 4, 3, 4, 4, 4, 4, 3, 4, 4, 3, 4, 4, 4, 4, 5, 4, 4, 5, 4, 4, 4, 4, 4, 4, 4, 5, 4, 4, 4, 4, 4, 4, 3, 4, 4, 4, 4, 4, 4, 4, 4, 4, 4, 4, 4, 4, 3, 5, 3, 3, 5, 3, 3, 4, 3, 2, 4, 5, 5, 4, 3, 3, 4, 4, 5, 2, 3, 4, 4, 4, 4, 4, 4, 3, 3, 4, 3, 4, 3, 4, 4, 4, 4, 4, 4, 3, 4, 4, 3, 4, 3, 3, 3, 4, 4, 3, 4, 4, 4, 2, 2, 4, 4, 4, 3, 4, 4, 4, 4, 4, 4, 4, 4, 3, 3, 3, 3, 5, 2, 3, 2, 4, 4, 3, 3, 3, 3, 3, 4, 4, 4, 4, 3, 4, 4, 4, 4, 4, 4, 4, 5, 4, 5, 4, 5, 4, 5, 4, 5, 3, 4, 4, 2, 4, 4, 3, 4, 4, 4, 4, 3, 4, 4, 4, 4, 4, 4, 3, 3, 4, 3, 4, 4, 3, 4, 4, 4, 4, 4, 4, 4, 4, 3, 4, 4, 4, 4, 4, 4, 4, 4, 3, 4, 3, 3, 2, 3, 4, 4, 4, 3, 3, 4, 4, 4, 3, 4, 4, 3, 4, 4, 2, 2, 3, 3, 4, 4, 3, 3, 3, 4, 4, 3, 3, 4, 4, 4, 3, 4, 4, 5, 4, 4, 4, 4, 5, 4, 3, 3, 4, 4, 4, 3, 5, 5, 4, 4, 4, 4, 3, 3, 3, 4, 4, 4, 4, 3, 4, 4, 4, 4, 4, 4, 4, 3, 4, 4, 4, 4, 4, 4, 3, 3, 3, 3, 3, 3, 4, 4, 3, 3, 3, 4, 4, 3, 2, 4, 4, 4, 3, 4, 4, 4, 3, 3, 4, 4, 4, 4, 4, 4, 4, 4, 4, 4, 4, 4, 4, 4, 4, 3, 3, 3, 4, 3, 4, 5, 5, 4, 5, 4, 4, 4, 4, 4, 4, 4, 4, 3, 3, 4, 4, 4, 4, 4, 3, 4, 3, 3, 4, 3, 4, 4, 4, 4, 4, 3, 4, 4, 4, 4, 4, 4, 4, 4, 4, 4, 3, 3, 3, 3, 3, 4, 4, 3, 4, 3, 4, 4, 4, 4, 4, 4, 4, 4, 4, 3, 4, 4, 5, 4, 4, 4, 4, 4, 4, 4, 3, 4, 4, 4, 4, 3, 4, 3, 4, 4, 3, 3, 4, 4, 4, 3, 4, 3, 4, 4, 3, 4, 3, 4, 4, 3, 4, 4, 3, 3, 5, 4, 3, 3, 2, 3, 4, 4, 4, 5, 5, 5, 3, 4, 4, 4, 4, 4, 4, 3, 4, 4, 4, 3, 4, 3, 3, 4, 3, 4, 4, 4, 3, 3, 3, 3, 3, 4, 3, 4, 3, 4, 4, 3, 4, 4, 4, 4, 4, 4, 4, 4, 4, 4, 3, 3, 3, 4, 4, 4, 4, 4, 4, 3, 4, 3, 4, 4, 4, 4, 4, 4, 4, 4, 4, 3, 3, 3, 4, 4, 4, 4, 4, 3, 4, 4, 5, 4, 4, 4, 4, 4, 3, 4, 4, 4, 4, 3, 4, 4, 3, 4, 4, 4, 4, 4, 3, 4, 3, 4, 5, 4, 5, 5, 3, 3, 3, 3, 3, 3, 4, 3, 5, 5, 3, 3, 4, 3, 3, 4, 4, 4, 3, 3, 4, 4, 4, 4, 3, 3, 4, 4, 2, 4, 4, 4, 4, 3, 4, 3, 4, 4, 4, 4, 4, 3, 4, 4, 4, 4, 4, 3, 4, 4, 3, 4, 3, 5, 5, 4, 5, 4, 3, 3, 4, 4, 5, 3, 4, 5, 4, 4, 4, 4, 4, 4, 3, 3, 3, 4, 4, 4, 4, 4, 4, 4, 3, 4, 4, 4, 4, 3, 4, 4, 4, 3, 4, 4, 4, 3, 3, 3, 4, 4, 4, 3, 4, 4, 4, 3, 3, 4, 4, 4, 3, 4, 4, 4, 4, 3, 3, 3, 4, 4, 4, 3, 4, 4, 3, 3, 4, 4, 4, 4, 4, 4, 4, 4, 4, 4, 4, 4, 3, 4, 5, 3, 4, 4, 4, 4, 4, 4, 4, 4, 4, 3, 4, 4, 3, 3, 4, 4, 3, 4, 3, 4, 4, 3, 3, 3, 4, 4, 4, 4, 4, 4, 4, 4, 4, 4, 4, 4, 4, 5, 4, 4, 4, 4, 3, 3, 4, 3, 4, 4, 3, 4, 4, 4, 3, 4, 4, 3, 2, 2, 3, 4, 4, 5, 4, 3, 4, 4, 4, 4, 5, 4, 4, 3, 5, 4, 4, 3, 3, 3, 4, 4, 5, 4, 5, 4, 4, 4, 4, 4, 3, 3, 4, 4, 4, 5, 3, 5, 4, 4, 4, 4, 4, 4, 4, 4, 4, 4, 3, 4, 3, 4, 4, 4, 4, 4, 4, 4, 4, 5, 5, 4, 4, 4, 3, 3, 4, 5, 5, 5, 4, 4, 4, 5, 4, 4, 4, 4, 3, 3, 4, 4, 5, 5, 3, 3, 4, 4, 3, 4, 4, 4, 5, 4, 4, 5, 3, 4, 3, 4, 4, 4, 4, 3, 4]\n",
    "    plt.hist(attemptCounts, bins=[0.5, 1.5, 2.5, 3.5, 4.5, 5.5])\n",
    "    plt.title(f\"Attempt Count Stats - Average: {np.mean(attemptCounts):0.2f}, Std. Dev: {np.std(attemptCounts):0.2f}, Max: {max(attemptCounts)}\")\n",
    "    plt.xlabel(\"Number of attempts\")\n",
    "    plt.ylabel(\"Frequency of words\")\n",
    "    plt.savefig(\"wordle_solver_stats.pdf\")\n",
    "\n",
    "# plotAttemptCounts()"
   ]
  },
  {
   "cell_type": "markdown",
   "metadata": {},
   "source": [
    "# Absurdle: the adversarial variant of Wordle\n",
    "### First some helper functions to generate outcomes and filter a word list by guess."
   ]
  },
  {
   "cell_type": "code",
   "execution_count": null,
   "metadata": {},
   "outputs": [],
   "source": [
    "def outcomeIsWorse(outcome, worstOutcome):\n",
    "    if outcome.count('g') < worstOutcome.count('g'):\n",
    "        return True\n",
    "    elif outcome.count('g') == worstOutcome.count('g'):\n",
    "        return outcome.count('y') < worstOutcome.count('y')\n",
    "    else:\n",
    "        return False"
   ]
  },
  {
   "cell_type": "code",
   "execution_count": null,
   "metadata": {},
   "outputs": [],
   "source": [
    "def filterOnGuess(guess, currentWords):\n",
    "    \"\"\"\n",
    "    guess: one of the allowed guesses\n",
    "    currentWords: list of words that are still the possible secrets\n",
    "\n",
    "    output: returned as (outcome, remainingWords)\n",
    "    outcome: 5 character long string of ('x', 'g', 'y')\n",
    "    remainingWords: list of remaining words\n",
    "    \"\"\"\n",
    "    outcomes = {o: [] for o in allOutcomes}\n",
    "    for word in currentWords:\n",
    "        outcome = getOutcome(guess, word)\n",
    "        outcomes[outcome].append(word)\n",
    "    worstOutcome = ''\n",
    "    mostSecrets = 0\n",
    "    for outcome in outcomes:\n",
    "        thisSecrets = len(outcomes[outcome])\n",
    "        if thisSecrets > mostSecrets or thisSecrets == mostSecrets and outcomeIsWorse(outcome, worstOutcome):\n",
    "            mostSecrets = thisSecrets\n",
    "            worstOutcome = outcome\n",
    "    return worstOutcome, outcomes[worstOutcome], outcomes"
   ]
  },
  {
   "cell_type": "markdown",
   "metadata": {},
   "source": [
    "### Simulate a round of Absurdle."
   ]
  },
  {
   "cell_type": "code",
   "execution_count": null,
   "metadata": {},
   "outputs": [],
   "source": [
    "def interactAbsurdle():\n",
    "    currentWords = allGuesses[:]\n",
    "    allLetters = list(\"etaoinshrdlcumwfgypbvkjxqz\") # by frequency\n",
    "    while True:\n",
    "        print(\"***************\")\n",
    "        guess = input(\"Enter your guess:\")\n",
    "        if guess == \"\":\n",
    "            break\n",
    "        else:\n",
    "            if guess in allGuesses:\n",
    "                outcome, currentWords, _ = filterOnGuess(guess, currentWords)\n",
    "                fancyPrint(outcome, guess)\n",
    "                if outcome == \"ggggg\":\n",
    "                    print(\"You win!\")\n",
    "                else:\n",
    "                    for letter in guess:\n",
    "                        try:\n",
    "                            i = allLetters.index(letter)\n",
    "                            allLetters.pop(i)\n",
    "                        except ValueError:\n",
    "                            pass\n",
    "                    print(\"Unused letters:\", \"\".join(allLetters))\n",
    "                    print(\"Number of words remaining:\", len(currentWords))\n",
    "                    print(\"***************\")\n",
    "            else:\n",
    "                print(\"Guess not in dictionary.\")\n",
    "\n",
    "# interactAbsurdle()"
   ]
  },
  {
   "cell_type": "markdown",
   "metadata": {},
   "source": [
    "### Now, let's try to greedily find the best guesses. Depending on your compute, these functions might all take a couple of minutes to run."
   ]
  },
  {
   "cell_type": "code",
   "execution_count": null,
   "metadata": {},
   "outputs": [],
   "source": [
    "def iterateAbsurdle(dictionary):\n",
    "    lastMin = len(dictionary)\n",
    "    bestGuess = None\n",
    "    bestOutcome = 'ggggg'\n",
    "    bestCurrentWords = []\n",
    "    for guess in allGuesses:\n",
    "        outcome, currentWords, _ = filterOnGuess(guess, dictionary)\n",
    "        if len(currentWords) <= lastMin:\n",
    "            bestGuess = guess\n",
    "            bestCurrentWords = currentWords\n",
    "            bestOutcome = outcome\n",
    "            lastMin = len(currentWords)\n",
    "    fancyPrint(bestOutcome, bestGuess)\n",
    "    if len(bestCurrentWords) == 1:\n",
    "        print(\"***************************************************************\")\n",
    "        print(\"Done. \", end = \"\")\n",
    "        fancyPrint('ggggg', currentWords[0])\n",
    "        return []\n",
    "    else:\n",
    "        print(\"***************************************************************\")\n",
    "        return bestCurrentWords"
   ]
  },
  {
   "cell_type": "code",
   "execution_count": null,
   "metadata": {},
   "outputs": [],
   "source": [
    "def solveAbsurdleGreedy():\n",
    "    currentWords = allowedAnswers[:]\n",
    "    while currentWords:\n",
    "        currentWords = iterateAbsurdle(currentWords)\n",
    "\n",
    "# solveAbsurdleGreedy()"
   ]
  },
  {
   "cell_type": "markdown",
   "metadata": {},
   "source": [
    "### Therefore the best greedily maximized Absurdle guess sequence is: `raise`, `duply`, `witch`, `zonal`, `uncut`. Note that there exists a four guess solution to Absurdle, but that would require a tree search."
   ]
  },
  {
   "cell_type": "markdown",
   "metadata": {},
   "source": [
    "### Solve Absurdle mid-game (after the user has already made a few guesses):"
   ]
  },
  {
   "cell_type": "code",
   "execution_count": null,
   "metadata": {},
   "outputs": [],
   "source": [
    "def solveAbsurdleContinuation(alreadyGuessed):\n",
    "    currentWords = allowedAnswers[:]\n",
    "    for guess in alreadyGuessed:\n",
    "        outcome, currentWords, _ = filterOnGuess(guess, currentWords)\n",
    "        fancyPrint(outcome, guess)\n",
    "    print(\"***************************************************************\")\n",
    "    while currentWords:\n",
    "        currentWords = iterateAbsurdle(currentWords)\n",
    "\n",
    "# solveAbsurdleContinuation([\"raise\", \"witch\", \"duply\"])"
   ]
  },
  {
   "cell_type": "markdown",
   "metadata": {},
   "source": [
    "### Now, let's try to solve the game in *Challenge* mode (where the final guess has to be a specific word)"
   ]
  },
  {
   "cell_type": "code",
   "execution_count": null,
   "metadata": {},
   "outputs": [],
   "source": [
    "def iterateAbsurdleChallenge(target, dictionary, prevGuesses):\n",
    "    lastMin = len(dictionary)\n",
    "    bestGuess = None\n",
    "    bestOutcome = 'ggggg'\n",
    "    bestCurrentWords = []\n",
    "    for guess in allGuesses:\n",
    "        if guess not in prevGuesses:\n",
    "            outcome, currentWords, buckets = filterOnGuess(guess, dictionary)\n",
    "            if target in currentWords:\n",
    "                # the largest bucket must contain the target word and must be one larger than the rest\n",
    "                if len(currentWords) < lastMin:\n",
    "                    lens = [len(buckets[t]) for t in buckets]\n",
    "                    lens.sort(reverse=True)\n",
    "                    if lens[0] > lens[1]:\n",
    "                        bestGuess = guess\n",
    "                        bestOutcome = outcome\n",
    "                        bestCurrentWords = currentWords\n",
    "                        lastMin = len(bestCurrentWords)\n",
    "    fancyPrint(bestOutcome, bestGuess)\n",
    "    if len(bestCurrentWords) == 1:\n",
    "        print(\"***************************************************************\")\n",
    "        print(\"Done. \", end = \"\")\n",
    "        fancyPrint('ggggg', bestCurrentWords[0])\n",
    "        return bestCurrentWords[0], bestCurrentWords\n",
    "    else:\n",
    "        print(\"***************************************************************\")\n",
    "        return bestGuess, bestCurrentWords"
   ]
  },
  {
   "cell_type": "code",
   "execution_count": null,
   "metadata": {},
   "outputs": [],
   "source": [
    "def solveAbsurdleChallenge(targetSecret):\n",
    "    currentWords = allowedAnswers[:]\n",
    "    prevGuesses = []\n",
    "    while len(currentWords) > 2:\n",
    "        bg, currentWords = iterateAbsurdleChallenge(targetSecret, currentWords, prevGuesses)\n",
    "        prevGuesses.append(bg)\n",
    "    for guess in allGuesses:\n",
    "        if guess not in prevGuesses:\n",
    "            outcome, finalWords, buckets = filterOnGuess(guess, currentWords)\n",
    "            if len(finalWords) == 1 and finalWords[0] == targetSecret:\n",
    "                prevGuesses.append(guess)\n",
    "                fancyPrint(outcome, guess)\n",
    "                print(\"***************************************************************\")\n",
    "                break\n",
    "    fancyPrint(\"ggggg\", targetSecret)\n",
    "\n",
    "\n",
    "# solveAbsurdleChallenge(\"rocky\")"
   ]
  }
 ],
 "metadata": {
  "interpreter": {
   "hash": "31f2aee4e71d21fbe5cf8b01ff0e069b9275f58929596ceb00d14d90e3e16cd6"
  },
  "kernelspec": {
   "display_name": "Python 3.6.9 64-bit",
   "language": "python",
   "name": "python3"
  },
  "language_info": {
   "codemirror_mode": {
    "name": "ipython",
    "version": 3
   },
   "file_extension": ".py",
   "mimetype": "text/x-python",
   "name": "python",
   "nbconvert_exporter": "python",
   "pygments_lexer": "ipython3",
   "version": "3.6.9"
  },
  "orig_nbformat": 4
 },
 "nbformat": 4,
 "nbformat_minor": 2
}
